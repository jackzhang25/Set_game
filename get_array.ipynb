{
 "cells": [
  {
   "cell_type": "code",
   "execution_count": 5,
   "metadata": {},
   "outputs": [],
   "source": [
    "import imageio\n",
    "from skimage import data\n",
    "from skimage.exposure import histogram\n",
    "\n",
    "import webcolors\n",
    "import matplotlib.pyplot as plt\n",
    "im = plt.imread(r'C:\\Users\\jackz\\Downloads\\card_images[330]\\red_2_oval_empty.png')\n",
    "\n",
    "def getTraitsOfCard(image):\n",
    "    tupleArray = Arrays(image)\n",
    "    numChangesArray = getNumChanges(tupleArray)\n",
    "    startingIndex = startingIndexArray(tupleArray)\n",
    "    return checkTextureandNum(numChangesArray) + \" \" + getShape(startingIndex) + \" \" + getColor(image)\n",
    "\n",
    "def getColor(picture):\n",
    "    m = int(len(picture)/2)\n",
    "    bg = picture[0][0]\n",
    "    for i in range(0, len(picture[1])):\n",
    "        if picture[m][i][0] != bg[0]:\n",
    "            color = picture[m][i]\n",
    "            break\n",
    "    if color[0] > color[1] > color[2]:\n",
    "        return \"red\"\n",
    "    elif color[1] > color[0] > color[2]:\n",
    "        return \"green\"\n",
    "    else:\n",
    "        return \"purple\"\n",
    "        \n",
    "\n",
    "def getShape(array):\n",
    "    middle = int(len(array)/2)\n",
    "    if checkOval(array, middle):\n",
    "        return \"oval\"\n",
    "    elif checkDiamond(array, middle):\n",
    "        return \"diamond\"\n",
    "    else:\n",
    "        return \"squiggle\"\n",
    "    \n",
    "def checkDiamond(array, mid):\n",
    "    for i in range(mid, mid + 10):\n",
    "        if array[i] == array[i+1] or array[i] < array[i+1]:\n",
    "            continue\n",
    "        return False\n",
    "    return True\n",
    "    \n",
    "def checkOval(array, mid):\n",
    "    for i in range(mid, mid + 15):\n",
    "        if array[i] == array[i+1]:\n",
    "            continue\n",
    "        return False\n",
    "    return True\n",
    "    \n",
    "    \n",
    "def checkTextureandNum(array):\n",
    "    middleIndex = array[int(len(array)/2)]\n",
    "    for i in range(int(len(array)/2), int(len(array)/2) + 10):\n",
    "        if array[i] != array[i+1]:\n",
    "            return \"stripped \" + checkNumberIfStripped(array, middleIndex)\n",
    "    if middleIndex == 2:\n",
    "        return \"full 1\"\n",
    "    elif middleIndex == 6:\n",
    "        return \"full 3\"\n",
    "    elif middleIndex == 8:\n",
    "        return \"empty 2\"\n",
    "    elif middleIndex == 12:\n",
    "        return \"empty 3\"\n",
    "    elif middleIndex == 4:\n",
    "        return ifIs4(array)\n",
    "    \n",
    "def checkNumberIfStripped(array, i):\n",
    "    if i == 2:\n",
    "        return \"1\"\n",
    "    elif i == 6:\n",
    "        return \"3\"\n",
    "    elif i == 8:\n",
    "        return \"2\"\n",
    "    elif i == 12:\n",
    "        return \"3\"\n",
    "    elif i == 4:\n",
    "        return ifIs4(array)[-1]\n",
    "def ifIs4(a):\n",
    "    for i in range(0, len(a)):\n",
    "        if a[i] == 0:\n",
    "            continue\n",
    "        firstChange = a[i]\n",
    "        break\n",
    "    if firstChange == 4:\n",
    "        return \"full 2\"\n",
    "    else:\n",
    "        return \"empty 1\"\n",
    "    \n",
    "\n",
    "def Arrays(x):\n",
    "    array = []\n",
    "    bgColor = x[0][0]\n",
    "    for i in range(0, len(x)):\n",
    "        currArray = []\n",
    "        lengthColor = 0\n",
    "        startColor = 0\n",
    "        for j in range(0, len(x[0])):\n",
    "            if not checkColorSame(x[i][j], bgColor):\n",
    "                if startColor == 0:\n",
    "                    startColor = j\n",
    "                lengthColor += 1\n",
    "            elif lengthColor != 0:\n",
    "                currArray.append((startColor, lengthColor))\n",
    "                lengthColor = 0\n",
    "                startColor = 0\n",
    "        array.append(currArray)   \n",
    "    return array \n",
    "\n",
    "def checkColorSame(color1, color2):\n",
    "    for i in range(0, 2):\n",
    "        if color1[i] == color2[i]:\n",
    "            continue\n",
    "        else:\n",
    "            return False\n",
    "    return True\n",
    "\n",
    "def getNumChanges(arr):\n",
    "    rlist = []\n",
    "    for i in range(0, len(arr)):\n",
    "        rlist.append(len(arr[i])*2)\n",
    "    return rlist\n",
    "\n",
    "def getAmountColor(array):\n",
    "    rlist = []\n",
    "    color = 0\n",
    "    for i in range(0, len(array)):\n",
    "        for j in range(0, len(array[i])):\n",
    "            color += array[i][j][1]\n",
    "        rlist.append(color)\n",
    "        color = 0\n",
    "    return rlist\n",
    "\n",
    "def startingIndexArray(array):\n",
    "    rlist = []\n",
    "    for i in range(len(array)):\n",
    "        if len(array[i]) != 0:\n",
    "            rlist.append(array[i][0][0])\n",
    "    return rlist"
   ]
  },
  {
   "cell_type": "code",
   "execution_count": 145,
   "metadata": {
    "scrolled": true
   },
   "outputs": [
    {
     "name": "stdout",
     "output_type": "stream",
     "text": [
      "empty 2 oval red\n"
     ]
    }
   ],
   "source": [
    "#print(getAmountColor(Arrays(im)))\n",
    "#print()\n",
    "print(getTraitsOfCard(im))\n",
    "#print(getNumChanges(Arrays(im)))\n",
    "#print()\n",
    "#print(Arrays(im))\n",
    "#print()\n",
    "#print(startingIndexArray(Arrays(im)))\n",
    "#squiggle"
   ]
  },
  {
   "cell_type": "code",
   "execution_count": 105,
   "metadata": {},
   "outputs": [
    {
     "name": "stdout",
     "output_type": "stream",
     "text": [
      "[117, 116, 115, 115, 114, 113, 112, 112, 111, 110, 110, 109, 109, 108, 107, 106, 105, 105, 104, 103, 102, 102, 101, 100, 100, 99, 98, 97, 97, 97, 96, 95, 94, 94, 94, 95, 95, 96, 97, 97, 98, 99, 99, 100, 100, 101, 102, 103, 103, 104, 105, 106, 107, 107, 108, 109, 109, 110, 111, 112, 112, 112, 113, 114, 115, 115, 116, 117]\n",
      "34\n",
      "94\n",
      "None\n",
      "stripped 1\n"
     ]
    }
   ],
   "source": [
    "print(startingIndexArray(Arrays(im)))\n",
    "print(getTraitsOfCard(im))\n",
    "#diamond"
   ]
  },
  {
   "cell_type": "code",
   "execution_count": 32,
   "metadata": {},
   "outputs": [
    {
     "name": "stdout",
     "output_type": "stream",
     "text": [
      "[122, 117, 114, 113, 111, 110, 109, 107, 107, 106, 105, 105, 104, 104, 104, 104, 104, 104, 104, 104, 104, 104, 104, 104, 104, 104, 104, 104, 104, 104, 104, 104, 104, 104, 104, 104, 104, 104, 104, 104, 104, 104, 104, 104, 104, 104, 104, 104, 104, 104, 104, 104, 104, 104, 104, 104, 104, 104, 104, 104, 104, 105, 105, 106, 107, 107, 109, 110, 111, 113, 114, 118, 120]\n",
      "[0, 0, 0, 0, 0, 0, 0, 0, 0, 0, 0, 0, 0, 0, 0, 0, 0, 0, 0, 0, 0, 0, 0, 0, 0, 0, 0, 0, 0, 0, 0, 0, 0, 2, 2, 2, 2, 4, 4, 4, 4, 4, 4, 4, 4, 4, 4, 4, 4, 4, 4, 4, 4, 4, 4, 4, 4, 4, 4, 4, 4, 4, 4, 4, 4, 4, 4, 4, 4, 4, 4, 4, 4, 4, 4, 4, 4, 4, 4, 4, 4, 4, 4, 4, 4, 4, 4, 4, 4, 4, 4, 4, 4, 4, 4, 4, 4, 4, 4, 4, 4, 4, 2, 2, 2, 2, 0, 0, 0, 0, 0, 0, 0, 0, 0, 0, 0, 0, 0, 0, 0, 0, 0, 0, 0, 0, 0, 0, 0, 0, 0, 0, 0, 0, 0, 0]\n"
     ]
    }
   ],
   "source": [
    "#pill\n",
    "print(startingIndexArray(Arrays(im)))\n",
    "print(getNumChanges(Arrays(im)))"
   ]
  },
  {
   "cell_type": "code",
   "execution_count": 124,
   "metadata": {},
   "outputs": [
    {
     "name": "stdout",
     "output_type": "stream",
     "text": [
      "[0.36862746 0.69803923 0.28235295 1.        ]\n"
     ]
    }
   ],
   "source": [
    "print(im[50][50])"
   ]
  },
  {
   "cell_type": "code",
   "execution_count": 162,
   "metadata": {},
   "outputs": [
    {
     "name": "stdout",
     "output_type": "stream",
     "text": [
      "white\n"
     ]
    }
   ],
   "source": [
    "\n",
    "print(webcolors.rgb_to_name([255,255,255]))"
   ]
  },
  {
   "cell_type": "code",
   "execution_count": 6,
   "metadata": {},
   "outputs": [
    {
     "ename": "NameError",
     "evalue": "name 'histogram' is not defined",
     "output_type": "error",
     "traceback": [
      "\u001b[1;31m---------------------------------------------------------------------------\u001b[0m",
      "\u001b[1;31mNameError\u001b[0m                                 Traceback (most recent call last)",
      "\u001b[1;32m<ipython-input-6-bc342ed54cae>\u001b[0m in \u001b[0;36m<module>\u001b[1;34m\u001b[0m\n\u001b[1;32m----> 1\u001b[1;33m \u001b[0mhist\u001b[0m\u001b[1;33m,\u001b[0m \u001b[0mhist_centers\u001b[0m \u001b[1;33m=\u001b[0m \u001b[0mhistogram\u001b[0m\u001b[1;33m(\u001b[0m\u001b[0mim\u001b[0m\u001b[1;33m)\u001b[0m\u001b[1;33m\u001b[0m\u001b[1;33m\u001b[0m\u001b[0m\n\u001b[0m",
      "\u001b[1;31mNameError\u001b[0m: name 'histogram' is not defined"
     ]
    }
   ],
   "source": [
    " hist, hist_centers = histogram(im)"
   ]
  },
  {
   "cell_type": "code",
   "execution_count": null,
   "metadata": {},
   "outputs": [],
   "source": []
  }
 ],
 "metadata": {
  "kernelspec": {
   "display_name": "Python 3",
   "language": "python",
   "name": "python3"
  },
  "language_info": {
   "codemirror_mode": {
    "name": "ipython",
    "version": 3
   },
   "file_extension": ".py",
   "mimetype": "text/x-python",
   "name": "python",
   "nbconvert_exporter": "python",
   "pygments_lexer": "ipython3",
   "version": "3.7.6"
  }
 },
 "nbformat": 4,
 "nbformat_minor": 4
}
